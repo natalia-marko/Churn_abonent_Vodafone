{
 "cells": [
  {
   "cell_type": "code",
   "execution_count": null,
   "id": "faf21207-2c42-477b-8925-839ce7a8d1a7",
   "metadata": {},
   "outputs": [],
   "source": [
    "import pandas as pd\n",
    "import numpy as np\n",
    "from sklearn.ensemble import IsolationForest\n",
    "from sklearn.neighbors import LocalOutlierFactor\n",
    "from sklearn.svm import OneClassSVM\n",
    "from sklearn.model_selection import train_test_split\n",
    "from sklearn.metrics import classification_report, confusion_matrix, roc_auc_score, f1_score, recall_score\n",
    "import pickle\n",
    "from my_functions import load_data, preprocess_data, evaluate"
   ]
  },
  {
   "cell_type": "code",
   "execution_count": 13,
   "id": "a5f4f2bc-ded4-4477-b003-8ce9f3733029",
   "metadata": {},
   "outputs": [],
   "source": [
    "# Get data\n",
    "data_path = 'data/churn_train_data.pcl'\n",
    "df = preprocess_data(load_data(data_path))\n",
    "\n",
    "y = df['target']\n",
    "X = df.drop(columns=['target'])\n",
    "\n",
    "# Split\n",
    "X_train, X_test, y_train, y_test = train_test_split(X, y, test_size=0.2, random_state=42, stratify=y)\n",
    "X_train_majority = X_train[y_train == 0]"
   ]
  },
  {
   "cell_type": "code",
   "execution_count": 14,
   "id": "2bff9756-2a1b-4b1f-87dd-cb33f6ea689d",
   "metadata": {},
   "outputs": [
    {
     "name": "stdout",
     "output_type": "stream",
     "text": [
      "Proceeding Isolation Forest model ...\n",
      "\n",
      "Isolation Forest:\n",
      "ROC AUC: 0.6394\n",
      "F1: 0.3013\n",
      "Recall: 0.3422\n",
      "Proceeding Local Outlier Factor (LOF) model ...\n"
     ]
    },
    {
     "name": "stderr",
     "output_type": "stream",
     "text": [
      "/opt/anaconda3/lib/python3.12/site-packages/sklearn/utils/validation.py:2739: UserWarning: X does not have valid feature names, but LocalOutlierFactor was fitted with feature names\n",
      "  warnings.warn(\n"
     ]
    },
    {
     "name": "stdout",
     "output_type": "stream",
     "text": [
      "\n",
      "Local Outlier Factor (LOF):\n",
      "ROC AUC: 0.5225\n",
      "F1: 0.1069\n",
      "Recall: 0.1116\n",
      "Proceeding One-Class SVM model ...\n",
      "\n",
      "One-Class SVM:\n",
      "ROC AUC: 0.5660\n",
      "F1: 0.1842\n",
      "Recall: 0.1951\n",
      "\n",
      "Summary of Model Performance:\n"
     ]
    },
    {
     "data": {
      "text/html": [
       "<div>\n",
       "<style scoped>\n",
       "    .dataframe tbody tr th:only-of-type {\n",
       "        vertical-align: middle;\n",
       "    }\n",
       "\n",
       "    .dataframe tbody tr th {\n",
       "        vertical-align: top;\n",
       "    }\n",
       "\n",
       "    .dataframe thead th {\n",
       "        text-align: right;\n",
       "    }\n",
       "</style>\n",
       "<table border=\"1\" class=\"dataframe\">\n",
       "  <thead>\n",
       "    <tr style=\"text-align: right;\">\n",
       "      <th></th>\n",
       "      <th>Model</th>\n",
       "      <th>ROC AUC</th>\n",
       "      <th>F1</th>\n",
       "      <th>Recall</th>\n",
       "    </tr>\n",
       "  </thead>\n",
       "  <tbody>\n",
       "    <tr>\n",
       "      <th>0</th>\n",
       "      <td>Isolation Forest</td>\n",
       "      <td>0.639373</td>\n",
       "      <td>0.301263</td>\n",
       "      <td>0.342201</td>\n",
       "    </tr>\n",
       "    <tr>\n",
       "      <th>1</th>\n",
       "      <td>Local Outlier Factor (LOF)</td>\n",
       "      <td>0.522469</td>\n",
       "      <td>0.106893</td>\n",
       "      <td>0.111633</td>\n",
       "    </tr>\n",
       "    <tr>\n",
       "      <th>2</th>\n",
       "      <td>One-Class SVM</td>\n",
       "      <td>0.566035</td>\n",
       "      <td>0.184191</td>\n",
       "      <td>0.195097</td>\n",
       "    </tr>\n",
       "  </tbody>\n",
       "</table>\n",
       "</div>"
      ],
      "text/plain": [
       "                        Model   ROC AUC        F1    Recall\n",
       "0            Isolation Forest  0.639373  0.301263  0.342201\n",
       "1  Local Outlier Factor (LOF)  0.522469  0.106893  0.111633\n",
       "2               One-Class SVM  0.566035  0.184191  0.195097"
      ]
     },
     "execution_count": 14,
     "metadata": {},
     "output_type": "execute_result"
    }
   ],
   "source": [
    "\n",
    "# Collect results\n",
    "results = []\n",
    "\n",
    "# Isolation Forest\n",
    "print('Proceeding Isolation Forest model ...')\n",
    "iso = IsolationForest(n_estimators=500, contamination=0.063, random_state=42)\n",
    "iso.fit(X_train_majority)\n",
    "y_pred_iso = iso.predict(X_test)\n",
    "y_pred_iso = np.where(y_pred_iso == -1, 1, 0)\n",
    "results.append(evaluate(y_test, y_pred_iso, \"Isolation Forest\"))\n",
    "\n",
    "# Local Outlier Factor (novelty mode)\n",
    "print('\\Proceeding Local Outlier Factor (LOF) model ...')\n",
    "lof = LocalOutlierFactor(n_neighbors=20, contamination=0.063, novelty=True)\n",
    "lof.fit(X_train_majority)\n",
    "y_pred_lof = lof.predict(X_test)\n",
    "y_pred_lof = np.where(y_pred_lof == -1, 1, 0)\n",
    "results.append(evaluate(y_test, y_pred_lof, \"Local Outlier Factor (LOF)\"))\n",
    "\n",
    "# One-Class SVM\n",
    "print('\\Proceeding One-Class SVM model ...')\n",
    "ocsvm = OneClassSVM(nu=0.063, kernel='rbf', gamma='scale')\n",
    "ocsvm.fit(X_train_majority)\n",
    "y_pred_svm = ocsvm.predict(X_test)\n",
    "y_pred_svm = np.where(y_pred_svm == -1, 1, 0)\n",
    "results.append(evaluate(y_test, y_pred_svm, \"One-Class SVM\"))\n",
    "\n",
    "# Create DataFrame with results\n",
    "results_df = pd.DataFrame(results)\n",
    "print(\"\\nSummary of Model Performance:\")\n",
    "results_df"
   ]
  },
  {
   "cell_type": "code",
   "execution_count": null,
   "id": "afd6356e-3486-4770-a19a-be6a932a2cca",
   "metadata": {},
   "outputs": [],
   "source": []
  }
 ],
 "metadata": {
  "kernelspec": {
   "display_name": "Python [conda env:base] *",
   "language": "python",
   "name": "conda-base-py"
  },
  "language_info": {
   "codemirror_mode": {
    "name": "ipython",
    "version": 3
   },
   "file_extension": ".py",
   "mimetype": "text/x-python",
   "name": "python",
   "nbconvert_exporter": "python",
   "pygments_lexer": "ipython3",
   "version": "3.12.2"
  }
 },
 "nbformat": 4,
 "nbformat_minor": 5
}
